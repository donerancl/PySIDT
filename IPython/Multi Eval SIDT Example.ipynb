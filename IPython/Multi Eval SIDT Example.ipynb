{
 "cells": [
  {
   "cell_type": "code",
   "execution_count": 1,
   "id": "e2776db3",
   "metadata": {},
   "outputs": [],
   "source": [
    "import json\n",
    "import numpy as np\n",
    "import random\n",
    "from pysidt import MultiEvalSubgraphIsomorphicDecisionTree, Node, Datum\n",
    "from pysidt.decomposition import atom_decomposition_noH\n",
    "from pysidt.plotting import plot_tree\n",
    "from molecule.molecule import *"
   ]
  },
  {
   "cell_type": "code",
   "execution_count": 2,
   "id": "9767c184",
   "metadata": {},
   "outputs": [],
   "source": [
    "with open(\"../pysidt/data/rmgdbH298CHOstablenoringnoads.json\",'r') as f:\n",
    "    data = json.load(f)"
   ]
  },
  {
   "cell_type": "code",
   "execution_count": 3,
   "id": "cde77dfd",
   "metadata": {},
   "outputs": [],
   "source": [
    "training_data = []\n",
    "for i,x in enumerate(data):\n",
    "    d = Datum(Molecule().from_adjacency_list(x[0],check_consistency=True),x[1])\n",
    "    dup = False\n",
    "    for td in training_data:\n",
    "        if td.mol.is_isomorphic(d.mol):\n",
    "            dup = True\n",
    "            break\n",
    "    if not dup:\n",
    "        training_data.append(d)"
   ]
  },
  {
   "cell_type": "code",
   "execution_count": 4,
   "id": "de2dccb2",
   "metadata": {},
   "outputs": [
    {
     "data": {
      "text/plain": [
       "184"
      ]
     },
     "execution_count": 4,
     "metadata": {},
     "output_type": "execute_result"
    }
   ],
   "source": [
    "random.shuffle(training_data)\n",
    "len(training_data)"
   ]
  },
  {
   "cell_type": "code",
   "execution_count": 5,
   "id": "5a5bcb49",
   "metadata": {},
   "outputs": [],
   "source": [
    "train = training_data[:150]\n",
    "test = []\n",
    "test = training_data[150:]"
   ]
  },
  {
   "cell_type": "code",
   "execution_count": 6,
   "id": "c37e1cb8",
   "metadata": {},
   "outputs": [],
   "source": [
    "root = Group().from_adjacency_list(\"\"\"1 * R u0 px cx\"\"\")\n",
    "\n",
    "sidt = MultiEvalSubgraphIsomorphicDecisionTree(atom_decomposition_noH,root_group=root,\n",
    "                                               r=[ATOMTYPES[x] for x in [\"C\",\"O\"]],\n",
    "                                               r_bonds=[1,2,3,1.5],\n",
    "                                                         r_un=[0],\n",
    "                                              fract_nodes_expand_per_iter=0.1,\n",
    "                                              )\n"
   ]
  },
  {
   "cell_type": "code",
   "execution_count": 7,
   "id": "65aaeedf",
   "metadata": {
    "scrolled": true
   },
   "outputs": [
    {
     "name": "stderr",
     "output_type": "stream",
     "text": [
      "/Users/mjohns9/mambaforge/envs/pynta_env/lib/python3.8/site-packages/scipy/sparse/_index.py:103: SparseEfficiencyWarning: Changing the sparsity structure of a csc_matrix is expensive. lil_matrix is more efficient.\n",
      "  self._set_intXint(row, col, x.flat[0])\n",
      "ERROR:root:training MAE: 30.587077423209106 kcal/mol\n",
      "ERROR:root:test MAE: 34.272893550611784 kcal/mol\n",
      "ERROR:root:# nodes: 1\n",
      "/Users/mjohns9/code/PySIDT/pysidt/sidt.py:375: RuntimeWarning: divide by zero encountered in scalar divide\n",
      "  dy = self.data_delta[i]/len(self.mol_node_maps[datum][\"mols\"])\n",
      "/Users/mjohns9/mambaforge/envs/pynta_env/lib/python3.8/site-packages/scipy/sparse/_index.py:103: SparseEfficiencyWarning: Changing the sparsity structure of a csc_matrix is expensive. lil_matrix is more efficient.\n",
      "  self._set_intXint(row, col, x.flat[0])\n"
     ]
    },
    {
     "name": "stdout",
     "output_type": "stream",
     "text": [
      "adding node Root_1R->C\n"
     ]
    },
    {
     "name": "stderr",
     "output_type": "stream",
     "text": [
      "ERROR:root:training MAE: 23.535382088133908 kcal/mol\n",
      "ERROR:root:test MAE: 23.73916878051222 kcal/mol\n",
      "ERROR:root:# nodes: 3\n",
      "/Users/mjohns9/code/PySIDT/pysidt/sidt.py:375: RuntimeWarning: divide by zero encountered in scalar divide\n",
      "  dy = self.data_delta[i]/len(self.mol_node_maps[datum][\"mols\"])\n",
      "/Users/mjohns9/mambaforge/envs/pynta_env/lib/python3.8/site-packages/scipy/sparse/_index.py:103: SparseEfficiencyWarning: Changing the sparsity structure of a csc_matrix is expensive. lil_matrix is more efficient.\n",
      "  self._set_intXint(row, col, x.flat[0])\n"
     ]
    },
    {
     "name": "stdout",
     "output_type": "stream",
     "text": [
      "adding node Root_N-1R->C_Ext-1O-R\n"
     ]
    },
    {
     "name": "stderr",
     "output_type": "stream",
     "text": [
      "ERROR:root:training MAE: 23.322285030998852 kcal/mol\n",
      "ERROR:root:test MAE: 23.77251717380036 kcal/mol\n",
      "ERROR:root:# nodes: 4\n",
      "/Users/mjohns9/code/PySIDT/pysidt/sidt.py:375: RuntimeWarning: divide by zero encountered in scalar divide\n",
      "  dy = self.data_delta[i]/len(self.mol_node_maps[datum][\"mols\"])\n",
      "/Users/mjohns9/mambaforge/envs/pynta_env/lib/python3.8/site-packages/scipy/sparse/_index.py:103: SparseEfficiencyWarning: Changing the sparsity structure of a csc_matrix is expensive. lil_matrix is more efficient.\n",
      "  self._set_intXint(row, col, x.flat[0])\n"
     ]
    },
    {
     "name": "stdout",
     "output_type": "stream",
     "text": [
      "adding node Root_N-1R->C_Ext-1O-R_2C->O\n"
     ]
    },
    {
     "name": "stderr",
     "output_type": "stream",
     "text": [
      "ERROR:root:training MAE: 19.98004687737156 kcal/mol\n",
      "ERROR:root:test MAE: 22.176859578431984 kcal/mol\n",
      "ERROR:root:# nodes: 6\n",
      "ERROR:root:Regularizing based on best test error\n",
      "/Users/mjohns9/mambaforge/envs/pynta_env/lib/python3.8/site-packages/scipy/sparse/_index.py:103: SparseEfficiencyWarning: Changing the sparsity structure of a csc_matrix is expensive. lil_matrix is more efficient.\n",
      "  self._set_intXint(row, col, x.flat[0])\n",
      "ERROR:root:training MAE: 19.980057627234277 kcal/mol\n",
      "ERROR:root:test MAE: 22.17685756526987 kcal/mol\n",
      "ERROR:root:# nodes: 6\n"
     ]
    }
   ],
   "source": [
    "sidt.generate_tree(data=train,test=test,max_nodes=4)"
   ]
  },
  {
   "cell_type": "code",
   "execution_count": 8,
   "id": "7c6be7af",
   "metadata": {},
   "outputs": [],
   "source": [
    "sidt.regularize(data=train,check_data=True)"
   ]
  },
  {
   "cell_type": "code",
   "execution_count": 9,
   "id": "f63ba07c",
   "metadata": {},
   "outputs": [
    {
     "data": {
      "text/plain": [
       "{'Root': <pysidt.sidt.Node at 0x7fabad492ac0>,\n",
       " 'Root_1R->C': <pysidt.sidt.Node at 0x7fabad18ed60>,\n",
       " 'Root_N-1R->C': <pysidt.sidt.Node at 0x7fabad492fd0>,\n",
       " 'Root_N-1R->C_Ext-1O-R': <pysidt.sidt.Node at 0x7fabaddac0d0>,\n",
       " 'Root_N-1R->C_Ext-1O-R_2C->O': <pysidt.sidt.Node at 0x7faba9c46820>,\n",
       " 'Root_N-1R->C_Ext-1O-R_N-2C->O': <pysidt.sidt.Node at 0x7fabaddac2e0>}"
      ]
     },
     "execution_count": 9,
     "metadata": {},
     "output_type": "execute_result"
    }
   ],
   "source": [
    "sidt.nodes"
   ]
  },
  {
   "cell_type": "code",
   "execution_count": 10,
   "id": "4f7f4896",
   "metadata": {},
   "outputs": [
    {
     "data": {
      "image/png": "[encoded data removed]",
      "text/plain": [
       "<IPython.core.display.Image object>"
      ]
     },
     "metadata": {},
     "output_type": "display_data"
    }
   ],
   "source": [
    "plot_tree(sidt,images=True)"
   ]
  },
  {
   "cell_type": "code",
   "execution_count": 11,
   "id": "603ff340",
   "metadata": {},
   "outputs": [],
   "source": [
    "train_error = [sidt.evaluate(d.mol) - d.value for d in train]\n",
    "test_error = [sidt.evaluate(d.mol) - d.value for d in test]\n"
   ]
  },
  {
   "cell_type": "code",
   "execution_count": 12,
   "id": "06bce319",
   "metadata": {},
   "outputs": [
    {
     "data": {
      "text/plain": [
       "19.980057627234277"
      ]
     },
     "execution_count": 12,
     "metadata": {},
     "output_type": "execute_result"
    }
   ],
   "source": [
    "np.mean(np.abs(np.array(train_error)))/4184.0"
   ]
  },
  {
   "cell_type": "code",
   "execution_count": 13,
   "id": "2c3d0539",
   "metadata": {},
   "outputs": [
    {
     "data": {
      "text/plain": [
       "22.17685756526987"
      ]
     },
     "execution_count": 13,
     "metadata": {},
     "output_type": "execute_result"
    }
   ],
   "source": [
    "np.mean(np.abs(np.array(test_error)))/4184.0"
   ]
  },
  {
   "cell_type": "code",
   "execution_count": null,
   "id": "71b218a3",
   "metadata": {},
   "outputs": [],
   "source": []
  }
 ],
 "metadata": {
  "kernelspec": {
   "display_name": "Python 3 (ipykernel)",
   "language": "python",
   "name": "python3"
  },
  "language_info": {
   "codemirror_mode": {
    "name": "ipython",
    "version": 3
   },
   "file_extension": ".py",
   "mimetype": "text/x-python",
   "name": "python",
   "nbconvert_exporter": "python",
   "pygments_lexer": "ipython3",
   "version": "3.8.15"
  }
 },
 "nbformat": 4,
 "nbformat_minor": 5
}
