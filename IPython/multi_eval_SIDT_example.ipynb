{
 "cells": [
  {
   "cell_type": "code",
   "execution_count": 1,
   "id": "e2776db3",
   "metadata": {},
   "outputs": [],
   "source": [
    "import json\n",
    "import random\n",
    "\n",
    "import numpy as np\n",
    "from pysidt import Datum, MultiEvalSubgraphIsomorphicDecisionTree\n",
    "from pysidt.decomposition import atom_decomposition_noH\n",
    "from pysidt.plotting import plot_tree\n",
    "\n",
    "from molecule.molecule import Group, Molecule, ATOMTYPES"
   ]
  },
  {
   "cell_type": "code",
   "execution_count": 2,
   "id": "9767c184",
   "metadata": {},
   "outputs": [],
   "source": [
    "with open(\"../data/rmgdbH298CHOstablenoringnoads.json\", \"r\") as f:\n",
    "    data = json.load(f)"
   ]
  },
  {
   "cell_type": "code",
   "execution_count": 3,
   "id": "cde77dfd",
   "metadata": {},
   "outputs": [],
   "source": [
    "training_data = []\n",
    "for i, x in enumerate(data):\n",
    "    d = Datum(Molecule().from_adjacency_list(x[0], check_consistency=True), x[1])\n",
    "    dup = False\n",
    "    for td in training_data:\n",
    "        if td.mol.is_isomorphic(d.mol):\n",
    "            dup = True\n",
    "            break\n",
    "    if not dup:\n",
    "        training_data.append(d)"
   ]
  },
  {
   "cell_type": "code",
   "execution_count": 4,
   "id": "de2dccb2",
   "metadata": {},
   "outputs": [
    {
     "data": {
      "text/plain": [
       "184"
      ]
     },
     "execution_count": 4,
     "metadata": {},
     "output_type": "execute_result"
    }
   ],
   "source": [
    "random.shuffle(training_data)\n",
    "len(training_data)"
   ]
  },
  {
   "cell_type": "code",
   "execution_count": 5,
   "id": "5a5bcb49",
   "metadata": {},
   "outputs": [],
   "source": [
    "train = training_data[:150]\n",
    "test = []\n",
    "test = training_data[150:]"
   ]
  },
  {
   "cell_type": "code",
   "execution_count": 6,
   "id": "c37e1cb8",
   "metadata": {},
   "outputs": [],
   "source": [
    "root = Group().from_adjacency_list(\"\"\"1 * R u0 px cx\"\"\")\n",
    "\n",
    "sidt = MultiEvalSubgraphIsomorphicDecisionTree(\n",
    "    atom_decomposition_noH,\n",
    "    root_group=root,\n",
    "    r=[ATOMTYPES[x] for x in [\"C\", \"O\"]],\n",
    "    r_bonds=[1, 2, 3, 1.5],\n",
    "    r_un=[0],\n",
    "    fract_nodes_expand_per_iter=0.1,\n",
    ")"
   ]
  },
  {
   "cell_type": "code",
   "execution_count": 7,
   "id": "65aaeedf",
   "metadata": {
    "scrolled": true
   },
   "outputs": [
    {
     "name": "stderr",
     "output_type": "stream",
     "text": [
      "INFO:root:training MAE: 122033.79567150374\n",
      "INFO:root:validation MAE: 170164.84233856888\n",
      "INFO:root:# nodes: 1\n",
      "/home/gridsan/hwpang/mambaforge/envs/pysidt_env_20240508/lib/python3.9/site-packages/scipy/sparse/_index.py:108: SparseEfficiencyWarning: Changing the sparsity structure of a csc_matrix is expensive. lil_matrix is more efficient.\n",
      "  self._set_intXint(row, col, x.flat[0])\n",
      "/home/gridsan/hwpang/Projects/pysidt_dev/PySIDT/pysidt/sidt.py:648: RuntimeWarning: divide by zero encountered in scalar divide\n",
      "  dy = self.data_delta[i] / len(self.mol_node_maps[datum][\"mols\"])\n",
      "INFO:root:training MAE: 95598.38756692603\n",
      "INFO:root:validation MAE: 109468.65495147534\n",
      "INFO:root:# nodes: 3\n"
     ]
    },
    {
     "name": "stdout",
     "output_type": "stream",
     "text": [
      "adding node Root_1R->C\n"
     ]
    },
    {
     "name": "stderr",
     "output_type": "stream",
     "text": [
      "/home/gridsan/hwpang/mambaforge/envs/pysidt_env_20240508/lib/python3.9/site-packages/scipy/sparse/_index.py:108: SparseEfficiencyWarning: Changing the sparsity structure of a csc_matrix is expensive. lil_matrix is more efficient.\n",
      "  self._set_intXint(row, col, x.flat[0])\n",
      "/home/gridsan/hwpang/Projects/pysidt_dev/PySIDT/pysidt/sidt.py:648: RuntimeWarning: divide by zero encountered in scalar divide\n",
      "  dy = self.data_delta[i] / len(self.mol_node_maps[datum][\"mols\"])\n",
      "INFO:root:training MAE: 95683.43983478994\n",
      "INFO:root:validation MAE: 109595.96516534565\n",
      "INFO:root:# nodes: 4\n",
      "/home/gridsan/hwpang/mambaforge/envs/pysidt_env_20240508/lib/python3.9/site-packages/scipy/sparse/_index.py:108: SparseEfficiencyWarning: Changing the sparsity structure of a csc_matrix is expensive. lil_matrix is more efficient.\n",
      "  self._set_intXint(row, col, x.flat[0])\n"
     ]
    },
    {
     "name": "stdout",
     "output_type": "stream",
     "text": [
      "adding node Root_N-1R->C_Ext-1O-R\n"
     ]
    },
    {
     "name": "stderr",
     "output_type": "stream",
     "text": [
      "/home/gridsan/hwpang/Projects/pysidt_dev/PySIDT/pysidt/sidt.py:648: RuntimeWarning: divide by zero encountered in scalar divide\n",
      "  dy = self.data_delta[i] / len(self.mol_node_maps[datum][\"mols\"])\n",
      "INFO:root:training MAE: 84975.61140214758\n",
      "INFO:root:validation MAE: 93454.05845995247\n",
      "INFO:root:# nodes: 6\n",
      "/home/gridsan/hwpang/mambaforge/envs/pysidt_env_20240508/lib/python3.9/site-packages/scipy/sparse/_index.py:108: SparseEfficiencyWarning: Changing the sparsity structure of a csc_matrix is expensive. lil_matrix is more efficient.\n",
      "  self._set_intXint(row, col, x.flat[0])\n"
     ]
    },
    {
     "name": "stdout",
     "output_type": "stream",
     "text": [
      "adding node Root_N-1R->C_Ext-1O-R_2C->O\n"
     ]
    },
    {
     "name": "stderr",
     "output_type": "stream",
     "text": [
      "INFO:root:Postpruning based on best validation error\n",
      "INFO:root:training MAE: 84975.61137610373\n",
      "INFO:root:validation MAE: 93454.05823551906\n",
      "INFO:root:# nodes: 6\n",
      "/home/gridsan/hwpang/mambaforge/envs/pysidt_env_20240508/lib/python3.9/site-packages/scipy/sparse/_index.py:108: SparseEfficiencyWarning: Changing the sparsity structure of a csc_matrix is expensive. lil_matrix is more efficient.\n",
      "  self._set_intXint(row, col, x.flat[0])\n"
     ]
    }
   ],
   "source": [
    "sidt.generate_tree(data=train, validation_set=test, max_nodes=4)"
   ]
  },
  {
   "cell_type": "code",
   "execution_count": 8,
   "id": "7c6be7af",
   "metadata": {},
   "outputs": [],
   "source": [
    "sidt.regularize(data=train, check_data=True)"
   ]
  },
  {
   "cell_type": "code",
   "execution_count": 9,
   "id": "f63ba07c",
   "metadata": {},
   "outputs": [
    {
     "data": {
      "text/plain": [
       "{'Root': Root rule: -29147.929370944297 +|- 127605651.39610648 (N=795.0) depth: 0,\n",
       " 'Root_1R->C': Root_1R->C rule: 34017.57680791656 +|- 154543321.80085784 (N=546.0) depth: 1,\n",
       " 'Root_N-1R->C': Root_N-1R->C rule: -72315.3723496829 +|- 914434763.3746141 (N=249.0) depth: 1,\n",
       " 'Root_N-1R->C_Ext-1O-R': Root_N-1R->C_Ext-1O-R rule: 227.81861891099206 +|- 919892077.2972356 (N=248.0) depth: 2,\n",
       " 'Root_N-1R->C_Ext-1O-R_2C->O': Root_N-1R->C_Ext-1O-R_2C->O rule: 21845.749891369793 +|- 308537578.0065224 (N=147.0) depth: 3,\n",
       " 'Root_N-1R->C_Ext-1O-R_N-2C->O': Root_N-1R->C_Ext-1O-R_N-2C->O rule: -40744.79491262615 +|- 379469496.0438907 (N=101.0) depth: 3}"
      ]
     },
     "execution_count": 9,
     "metadata": {},
     "output_type": "execute_result"
    }
   ],
   "source": [
    "sidt.nodes"
   ]
  },
  {
   "cell_type": "code",
   "execution_count": 10,
   "id": "4f7f4896",
   "metadata": {},
   "outputs": [
    {
     "data": {
      "image/png": "[encoded data removed]",
      "text/plain": [
       "<IPython.core.display.Image object>"
      ]
     },
     "metadata": {},
     "output_type": "display_data"
    }
   ],
   "source": [
    "plot_tree(sidt, images=True)"
   ]
  },
  {
   "cell_type": "code",
   "execution_count": 12,
   "id": "603ff340",
   "metadata": {},
   "outputs": [],
   "source": [
    "train_error = [sidt.evaluate(d.mol, estimate_uncertainty=False) - d.value for d in train]\n",
    "test_error = [sidt.evaluate(d.mol, estimate_uncertainty=False) - d.value for d in test]"
   ]
  },
  {
   "cell_type": "code",
   "execution_count": 13,
   "id": "06bce319",
   "metadata": {},
   "outputs": [
    {
     "data": {
      "text/plain": [
       "20.309658550694007"
      ]
     },
     "execution_count": 13,
     "metadata": {},
     "output_type": "execute_result"
    }
   ],
   "source": [
    "np.mean(np.abs(np.array(train_error))) / 4184.0"
   ]
  },
  {
   "cell_type": "code",
   "execution_count": 14,
   "id": "2c3d0539",
   "metadata": {},
   "outputs": [
    {
     "data": {
      "text/plain": [
       "22.33605598363266"
      ]
     },
     "execution_count": 14,
     "metadata": {},
     "output_type": "execute_result"
    }
   ],
   "source": [
    "np.mean(np.abs(np.array(test_error))) / 4184.0"
   ]
  },
  {
   "cell_type": "code",
   "execution_count": null,
   "id": "71b218a3",
   "metadata": {},
   "outputs": [],
   "source": []
  }
 ],
 "metadata": {
  "kernelspec": {
   "display_name": "Python 3 (ipykernel)",
   "language": "python",
   "name": "python3"
  },
  "language_info": {
   "codemirror_mode": {
    "name": "ipython",
    "version": 3
   },
   "file_extension": ".py",
   "mimetype": "text/x-python",
   "name": "python",
   "nbconvert_exporter": "python",
   "pygments_lexer": "ipython3",
   "version": "3.9.19"
  }
 },
 "nbformat": 4,
 "nbformat_minor": 5
}
